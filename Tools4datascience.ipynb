{
 "cells": [
  {
   "cell_type": "markdown",
   "id": "ec2200de-69ce-493f-a2bb-9235692e942b",
   "metadata": {
    "tags": []
   },
   "source": [
    "# My Jupyter Notebook but not on IBM Watson Studio (I can't finalise sign in process because they ask me credit card information for a free trial...)"
   ]
  },
  {
   "cell_type": "markdown",
   "id": "ad4e25df-8103-4794-b700-fc116a6e8fac",
   "metadata": {},
   "source": [
    "<b>Alexis Voyez</b>\n",
    "\n",
    "Mainframe analyst who desired to because data analyst/scientist"
   ]
  },
  {
   "cell_type": "markdown",
   "id": "fd24a49c-e067-4e1d-ab4e-255b8637c060",
   "metadata": {},
   "source": [
    "<i>I am interested in data science because after 10 years as a mainframe analyst, I really want to change work. Why data science? Because It's really cool to find a niddle in a haystack :)</i>"
   ]
  },
  {
   "cell_type": "markdown",
   "id": "bcbc7c72-abf5-4883-844d-aa517e453c40",
   "metadata": {},
   "source": [
    "### A Short code to give us fortitude"
   ]
  },
  {
   "cell_type": "code",
   "execution_count": 11,
   "id": "4fa56012-e13c-451f-897c-26f81e5f6c19",
   "metadata": {},
   "outputs": [
    {
     "name": "stdin",
     "output_type": "stream",
     "text": [
      "Enter your Name:  Alexis\n"
     ]
    },
    {
     "name": "stdout",
     "output_type": "stream",
     "text": [
      "Welcome Alexis! You are going to discover the wonderfull world of Data Science!\n",
      "May the force be with you!!!\n"
     ]
    }
   ],
   "source": [
    "while True:\n",
    "    name = input('Enter your Name: ')\n",
    "    if len(name) == 0:\n",
    "        print(\"Please enter your name. I'm not going to bit you :) !\")\n",
    "        continue\n",
    "    else:\n",
    "        print('Welcome ' + name + '! You are going to discover the wonderfull world of Data Science!') \n",
    "        print('May the force be with you!!!')\n",
    "        break"
   ]
  },
  {
   "cell_type": "markdown",
   "id": "38f32ade-3ba2-4730-a7ed-6b54e3631785",
   "metadata": {},
   "source": [
    "* One\n",
    "* Two\n",
    "* Three\n",
    "\n",
    "1. One\n",
    "2. Two\n",
    "3. Three\n",
    "\n",
    "The [Data science definition](https://en.wikipedia.org/wiki/Data_science) right here !"
   ]
  }
 ],
 "metadata": {
  "kernelspec": {
   "display_name": "Python 3 (ipykernel)",
   "language": "python",
   "name": "python3"
  },
  "language_info": {
   "codemirror_mode": {
    "name": "ipython",
    "version": 3
   },
   "file_extension": ".py",
   "mimetype": "text/x-python",
   "name": "python",
   "nbconvert_exporter": "python",
   "pygments_lexer": "ipython3",
   "version": "3.9.7"
  },
  "toc-showcode": false,
  "toc-showmarkdowntxt": true,
  "toc-showtags": false
 },
 "nbformat": 4,
 "nbformat_minor": 5
}
